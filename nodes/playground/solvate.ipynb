{
 "cells": [
  {
   "cell_type": "markdown",
   "metadata": {},
   "source": [
    "Author: Julien Michel<br>\n",
    "Email:&nbsp;&nbsp; julien.michel@ed.ac.uk\n",
    "\n",
    "# Solvate\n",
    "\n",
    "Based on Molecular Setup from Lester Hedges. Solvates an input with a chosen water model."
   ]
  },
  {
   "cell_type": "code",
   "execution_count": null,
   "metadata": {},
   "outputs": [],
   "source": [
    "import BioSimSpace as BSS"
   ]
  },
  {
   "cell_type": "code",
   "execution_count": null,
   "metadata": {},
   "outputs": [],
   "source": [
    "node = BSS.Gateway.Node(\"A node to solvate a molecule ready for molecular simulation with AMBER.\")"
   ]
  },
  {
   "cell_type": "code",
   "execution_count": null,
   "metadata": {},
   "outputs": [],
   "source": [
    "node.addAuthor(name=\"Julien Michel\", email=\"julien.michel@ed.ac.uk\", affiliation=\"University of Edinburgh\")\n",
    "node.setLicense(\"GPLv3\")"
   ]
  },
  {
   "cell_type": "code",
   "execution_count": null,
   "metadata": {},
   "outputs": [],
   "source": [
    "node.addInput(\"input\", BSS.Gateway.FileSet(help=\"A topology and coordinates file\"))\n",
    "\n",
    "node.addInput(\"water\", BSS.Gateway.String(help=\"The name of the water model to use for solvation.\",\n",
    "                                          allowed=BSS.Solvent.waterModels(), default=\"tip3p\"))\n",
    "\n",
    "node.addInput(\"extent\", BSS.Gateway.Length(help=\"The extent of the water shell along each axis around the solute.\", unit=\"angstrom\"))\n",
    "\n",
    "node.addInput(\"ion_conc\", BSS.Gateway.Float(help=\"The ionic concentration in mol/litre.\",\n",
    "                                            minimum=0, maximum=1, default=0))\n",
    "\n",
    "node.addInput(\"output\", BSS.Gateway.String(help=\"The root name of the solvated output files.\"))"
   ]
  },
  {
   "cell_type": "code",
   "execution_count": null,
   "metadata": {},
   "outputs": [],
   "source": [
    "node.addOutput(\"nodeoutput\", BSS.Gateway.FileSet(help=\"The parameterised and solvated molecular system in AMBER format.\"))"
   ]
  },
  {
   "cell_type": "code",
   "execution_count": null,
   "metadata": {},
   "outputs": [],
   "source": [
    "node.showControls()"
   ]
  },
  {
   "cell_type": "code",
   "execution_count": null,
   "metadata": {},
   "outputs": [],
   "source": [
    "system = BSS.IO.readMolecules(node.getInput(\"input\"))"
   ]
  },
  {
   "cell_type": "code",
   "execution_count": null,
   "metadata": {},
   "outputs": [],
   "source": [
    "system = BSS.Solvent.solvate(node.getInput(\"water\"), molecule=system,\n",
    "                                                     shell=node.getInput(\"extent\"),\n",
    "                                                     ion_conc=node.getInput(\"ion_conc\"))"
   ]
  },
  {
   "cell_type": "code",
   "execution_count": null,
   "metadata": {},
   "outputs": [],
   "source": [
    "node.setOutput(\"nodeoutput\", BSS.IO.saveMolecules(node.getInput(\"output\"), system, [\"prm7\", \"rst7\"]))"
   ]
  },
  {
   "cell_type": "code",
   "execution_count": null,
   "metadata": {},
   "outputs": [],
   "source": [
    "node.validate()"
   ]
  },
  {
   "cell_type": "code",
   "execution_count": null,
   "metadata": {},
   "outputs": [],
   "source": [
    "#BSS.IO.saveMolecules(node.getInput(\"output\"), system, [\"prm7\",\"rst7\"])"
   ]
  },
  {
   "cell_type": "code",
   "execution_count": null,
   "metadata": {},
   "outputs": [],
   "source": []
  }
 ],
 "metadata": {
  "kernelspec": {
   "display_name": "Python 3",
   "language": "python",
   "name": "python3"
  },
  "language_info": {
   "codemirror_mode": {
    "name": "ipython",
    "version": 3
   },
   "file_extension": ".py",
   "mimetype": "text/x-python",
   "name": "python",
   "nbconvert_exporter": "python",
   "pygments_lexer": "ipython3",
   "version": "3.5.5"
  }
 },
 "nbformat": 4,
 "nbformat_minor": 2
}
